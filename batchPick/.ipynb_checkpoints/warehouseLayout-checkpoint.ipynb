{
 "cells": [
  {
   "cell_type": "markdown",
   "id": "de9a72b4",
   "metadata": {},
   "source": [
    "## Trying warehouse layout\n"
   ]
  },
  {
   "cell_type": "code",
   "execution_count": 5,
   "id": "44d25109",
   "metadata": {},
   "outputs": [],
   "source": [
    "import matplotlib.pyplot as plt\n",
    "import matplotlib.patches as patches\n",
    "import math"
   ]
  },
  {
   "cell_type": "code",
   "execution_count": 28,
   "id": "720c2402",
   "metadata": {},
   "outputs": [],
   "source": [
    "min_x,min_y = 0,0\n",
    "max_x, max_y = 320,240#640, 480\n",
    "range_y = range(math.floor(min_y) - 50, math.ceil(max_y)+1, math.ceil((max_y - min_y) / 10))\n",
    "range_x = range(math.floor(min_x) - 50, math.ceil(max_x)+1, math.ceil((max_y - min_y) / 10))\n"
   ]
  },
  {
   "cell_type": "code",
   "execution_count": 26,
   "id": "323e4aa0",
   "metadata": {},
   "outputs": [
    {
     "name": "stdout",
     "output_type": "stream",
     "text": [
      "#0D06F4\n"
     ]
    }
   ],
   "source": [
    "import random\n",
    "r = lambda: random.randint(0,255)\n",
    "print('#%02X%02X%02X' % (r(),r(),r()))\n",
    "\n",
    "def random_hex_color():\n",
    "    return '#%02X%02X%02X' % (r(),r(),r())\n"
   ]
  },
  {
   "cell_type": "code",
   "execution_count": 33,
   "id": "26f7eda2",
   "metadata": {},
   "outputs": [
    {
     "name": "stdout",
     "output_type": "stream",
     "text": [
      "(-10.0, 10.0)\n",
      "(6.0, 0.0)\n",
      "(30.0, 10.0)\n",
      "(120.0, 10.0)\n"
     ]
    },
    {
     "data": {
      "image/png": "[encoded data removed]",
      "text/plain": [
       "<Figure size 432x288 with 1 Axes>"
      ]
     },
     "metadata": {
      "needs_background": "light"
     },
     "output_type": "display_data"
    }
   ],
   "source": [
    "shelf_length = 40\n",
    "shelf_width = 20\n",
    "\n",
    "shelf_details = [\n",
    "    {\n",
    "        \"dir\":\"h\",\n",
    "        \"loc\":(10,20)\n",
    "    },\n",
    "    {\n",
    "        \"dir\":\"l\",\n",
    "        \"loc\":(16,20)\n",
    "    },\n",
    "    {\n",
    "        \"dir\":\"h\",\n",
    "        \"loc\":(50,20)\n",
    "    },\n",
    "    {\n",
    "        \"dir\":\"h\",\n",
    "        \"loc\":(140,20)\n",
    "    },\n",
    "]\n",
    "\n",
    "\n",
    "fig, ax = plt.subplots()\n",
    "plt.yticks(range_y)\n",
    "plt.xticks(range_x)\n",
    "\n",
    "for shelf in shelf_details:\n",
    "    b_l = (0,0)\n",
    "    cur_x = shelf_width\n",
    "    cur_y = shelf_length\n",
    "    \n",
    "    if shelf[\"dir\"] == \"h\":\n",
    "        cur_loc = shelf[\"loc\"]\n",
    "        b_l = (cur_loc[0] - shelf_length/2, cur_loc[1] - shelf_width/2)\n",
    "        cur_x = shelf_length\n",
    "        cur_y = shelf_width\n",
    "    else:\n",
    "        cur_loc = shelf[\"loc\"]\n",
    "        b_l = (cur_loc[0] - shelf_width/2, cur_loc[1] - shelf_length/2)\n",
    "\n",
    "    print(b_l)\n",
    "    rect = patches.Rectangle(b_l, cur_x, cur_y, linewidth=1, edgecolor=random_hex_color(), facecolor='none')\n",
    "    ax.add_patch(rect)\n",
    "    \n",
    "    \n",
    "# Add the patch to the Axes\n",
    "ax.add_patch(rect)\n",
    "plt.text(200, 380, \"MIAO\", fontsize=12, rotation='vertical')\n",
    "plt.show()"
   ]
  },
  {
   "cell_type": "code",
   "execution_count": null,
   "id": "4067c0cb",
   "metadata": {},
   "outputs": [],
   "source": []
  },
  {
   "cell_type": "code",
   "execution_count": 185,
   "id": "a556199f",
   "metadata": {},
   "outputs": [],
   "source": [
    "def generate_rectangle_layout(s_l, s_w, a_l, a_w, area_b_l, direction):\n",
    "    shelf_details = []\n",
    "    \n",
    "    #y_positions = gen_y_pos()\n",
    "    shelf_x,shelf_y = s_l, s_w\n",
    "    if direction == \"v\":\n",
    "        shelf_x,shelf_y = s_w, s_l\n",
    "    \n",
    "    print(f\"shelf_x, shelf_y {shelf_x},{shelf_y}\")\n",
    "    \n",
    "    for x in range(math.floor(s_l/2) + area_b_l[0],a_l + area_b_l[0], shelf_x):\n",
    "        isPaired = False\n",
    "        y = math.floor(shelf_y/2) + area_b_l[1]\n",
    "        while(y < (a_w  + area_b_l[1])):\n",
    "            cur_interval = shelf_y\n",
    "            if (isPaired):\n",
    "                cur_interval *= 2\n",
    "                isPaired = False\n",
    "            else:\n",
    "                isPaired = True\n",
    "            #print(f\"cur_interval: {cur_interval}\")\n",
    "            \n",
    "            y += cur_interval\n",
    "            shelf_details.append({\n",
    "                \"dir\":direction,\n",
    "                \"loc\":(x,y),\n",
    "                \"s_l\":shelf_x,\n",
    "                \"s_w\":shelf_y\n",
    "            })\n",
    "        \n",
    "    return shelf_details"
   ]
  },
  {
   "cell_type": "code",
   "execution_count": 167,
   "id": "7bf8b6f3",
   "metadata": {},
   "outputs": [],
   "source": [
    "def print_warehouse_layout(s_l, s_w, a_l, a_w, shelf_details):\n",
    "    range_y = range(0 - s_l, math.ceil(a_w)+s_l + 75, math.ceil((a_w) / 5))\n",
    "    range_x = range(0 - s_l, math.ceil(a_l)+s_l+ 75, math.ceil((a_l) / 5))\n",
    "    print(range_x)\n",
    "    print(range_y)\n",
    "    fig, ax = plt.subplots(figsize=(12,6))\n",
    "    \n",
    "    plt.yticks(range_y)\n",
    "    plt.xticks(range_x)\n",
    "\n",
    "    for shelf in shelf_details:\n",
    "        b_l = (0,0)\n",
    "        cur_x = shelf[\"s_l\"]\n",
    "        cur_y = shelf[\"s_w\"]\n",
    "\n",
    "        if shelf[\"dir\"] == \"h\":\n",
    "            cur_loc = shelf[\"loc\"]\n",
    "            b_l = (cur_loc[0] - s_l/2, cur_loc[1] - s_w/2)\n",
    "            cur_x = s_l\n",
    "            cur_y = s_w\n",
    "        else:\n",
    "            cur_loc = shelf[\"loc\"]\n",
    "            b_l = (cur_loc[0] - s_w/2, cur_loc[1] - s_l/2)\n",
    "\n",
    "        #print(b_l)\n",
    "        rect = patches.Rectangle(b_l, cur_x, cur_y, linewidth=1, edgecolor=random_hex_color(), facecolor='none')\n",
    "        ax.add_patch(rect)\n",
    "\n",
    "\n",
    "    # Add the patch to the Axes\n",
    "    ax.add_patch(rect)\n",
    "    plt.text(200, 380, \"MIAO\", fontsize=12, rotation='vertical')\n",
    "    plt.show()"
   ]
  },
  {
   "cell_type": "code",
   "execution_count": null,
   "id": "25a9f46b",
   "metadata": {},
   "outputs": [],
   "source": [
    "def gen_occupancy_grid(layout, ):\n",
    "    "
   ]
  },
  {
   "cell_type": "code",
   "execution_count": 186,
   "id": "614b66e4",
   "metadata": {},
   "outputs": [
    {
     "name": "stdout",
     "output_type": "stream",
     "text": [
      "shelf_x, shelf_y 40,20\n"
     ]
    }
   ],
   "source": [
    "shelf_length = 40\n",
    "shelf_width = 20\n",
    "area_x_len = 560\n",
    "area_x_width = 400\n",
    "area_b_l = (480,540)\n",
    "a_1 = generate_rectangle_layout(shelf_length, shelf_width, area_x_len, area_x_width,area_b_l,\"h\")"
   ]
  },
  {
   "cell_type": "code",
   "execution_count": 187,
   "id": "710899cc",
   "metadata": {},
   "outputs": [
    {
     "name": "stdout",
     "output_type": "stream",
     "text": [
      "shelf_x, shelf_y 20,60\n"
     ]
    }
   ],
   "source": [
    "shelf_length = 60\n",
    "shelf_width = 20\n",
    "area_x_len = 560\n",
    "area_x_width = 400\n",
    "area_b_l = (0,0)\n",
    "a_2 = generate_rectangle_layout(shelf_length, shelf_width, area_x_len, area_x_width,area_b_l,\"v\")"
   ]
  },
  {
   "cell_type": "code",
   "execution_count": 133,
   "id": "afb4a980",
   "metadata": {},
   "outputs": [],
   "source": [
    "warehouse_len = 1200\n",
    "warehouse_width = 800"
   ]
  },
  {
   "cell_type": "code",
   "execution_count": 188,
   "id": "89d038ad",
   "metadata": {},
   "outputs": [],
   "source": [
    "a_all = a_1 + a_2"
   ]
  },
  {
   "cell_type": "code",
   "execution_count": 141,
   "id": "d99a9045",
   "metadata": {},
   "outputs": [
    {
     "name": "stdout",
     "output_type": "stream",
     "text": [
      "266\n",
      "189\n",
      "455\n"
     ]
    }
   ],
   "source": [
    "print(len(a_1))\n",
    "print(len(a_2))\n",
    "print(len(a_all))"
   ]
  },
  {
   "cell_type": "code",
   "execution_count": 189,
   "id": "f8b70c18",
   "metadata": {
    "scrolled": true
   },
   "outputs": [
    {
     "name": "stdout",
     "output_type": "stream",
     "text": [
      "range(-60, 1335, 240)\n",
      "range(-60, 935, 160)\n"
     ]
    },
    {
     "data": {
      "image/png": "[encoded data removed]",
      "text/plain": [
       "<Figure size 864x432 with 1 Axes>"
      ]
     },
     "metadata": {
      "needs_background": "light"
     },
     "output_type": "display_data"
    }
   ],
   "source": [
    "print_warehouse_layout(shelf_length, shelf_width, warehouse_len, warehouse_width, a_all)"
   ]
  },
  {
   "cell_type": "code",
   "execution_count": 182,
   "id": "7d946a1b",
   "metadata": {},
   "outputs": [
    {
     "name": "stdout",
     "output_type": "stream",
     "text": [
      "range(-60, 1335, 240)\n",
      "range(-60, 935, 160)\n"
     ]
    },
    {
     "data": {
      "image/png": "[encoded data removed]",
      "text/plain": [
       "<Figure size 864x432 with 1 Axes>"
      ]
     },
     "metadata": {
      "needs_background": "light"
     },
     "output_type": "display_data"
    }
   ],
   "source": [
    "print_warehouse_layout(shelf_length, shelf_width, warehouse_len, warehouse_width, a_1)"
   ]
  },
  {
   "cell_type": "code",
   "execution_count": 181,
   "id": "8ad0ea6e",
   "metadata": {
    "scrolled": true
   },
   "outputs": [
    {
     "name": "stdout",
     "output_type": "stream",
     "text": [
      "range(-60, 1335, 240)\n",
      "range(-60, 935, 160)\n"
     ]
    },
    {
     "data": {
      "image/png": "[encoded data removed]",
      "text/plain": [
       "<Figure size 864x432 with 1 Axes>"
      ]
     },
     "metadata": {
      "needs_background": "light"
     },
     "output_type": "display_data"
    }
   ],
   "source": [
    "print_warehouse_layout(shelf_length, shelf_width, warehouse_len, warehouse_width, a_2)"
   ]
  },
  {
   "cell_type": "code",
   "execution_count": null,
   "id": "208578b4",
   "metadata": {},
   "outputs": [],
   "source": []
  }
 ],
 "metadata": {
  "kernelspec": {
   "display_name": "Python 3 (ipykernel)",
   "language": "python",
   "name": "python3"
  },
  "language_info": {
   "codemirror_mode": {
    "name": "ipython",
    "version": 3
   },
   "file_extension": ".py",
   "mimetype": "text/x-python",
   "name": "python",
   "nbconvert_exporter": "python",
   "pygments_lexer": "ipython3",
   "version": "3.8.12"
  }
 },
 "nbformat": 4,
 "nbformat_minor": 5
}
