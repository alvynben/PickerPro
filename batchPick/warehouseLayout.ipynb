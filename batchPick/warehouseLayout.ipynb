{
 "cells": [
  {
   "cell_type": "markdown",
   "id": "b03a337b",
   "metadata": {},
   "source": [
    "## Trying warehouse layout\n"
   ]
  },
  {
   "cell_type": "code",
   "execution_count": 1,
   "id": "fcc3d2e5",
   "metadata": {},
   "outputs": [],
   "source": [
    "import matplotlib.pyplot as plt\n",
    "import matplotlib.patches as patches\n",
    "from matplotlib import colors\n",
    "import math\n",
    "import numpy as np"
   ]
  },
  {
   "cell_type": "code",
   "execution_count": 2,
   "id": "dfeeea70",
   "metadata": {},
   "outputs": [],
   "source": [
    "min_x,min_y = 0,0\n",
    "max_x, max_y = 320,240#640, 480\n",
    "range_y = range(math.floor(min_y) - 50, math.ceil(max_y)+1, math.ceil((max_y - min_y) / 10))\n",
    "range_x = range(math.floor(min_x) - 50, math.ceil(max_x)+1, math.ceil((max_y - min_y) / 10))\n"
   ]
  },
  {
   "cell_type": "code",
   "execution_count": 3,
   "id": "322ebb9d",
   "metadata": {},
   "outputs": [
    {
     "name": "stdout",
     "output_type": "stream",
     "text": [
      "#27F718\n"
     ]
    }
   ],
   "source": [
    "import random\n",
    "r = lambda: random.randint(0,255)\n",
    "print('#%02X%02X%02X' % (r(),r(),r()))\n",
    "\n",
    "def random_hex_color():\n",
    "    return '#%02X%02X%02X' % (r(),r(),r())\n"
   ]
  },
  {
   "cell_type": "code",
   "execution_count": 4,
   "id": "9447103b",
   "metadata": {},
   "outputs": [],
   "source": [
    "def generate_rectangle_layout(s_l, s_w, a_l, a_w, area_b_l, direction):\n",
    "    shelf_details = []\n",
    "    \n",
    "    #y_positions = gen_y_pos()\n",
    "    shelf_x,shelf_y = s_l, s_w\n",
    "    if direction == \"v\":\n",
    "        shelf_x,shelf_y = s_w, s_l\n",
    "    \n",
    "    print(f\"shelf_x, shelf_y {shelf_x},{shelf_y}\")\n",
    "    \n",
    "    start_x, start_y = math.floor(s_l/2) + area_b_l[0], math.floor(shelf_y/2) + area_b_l[1]\n",
    "    end_x, end_y = a_l + area_b_l[0], a_w  + area_b_l[1]\n",
    "    \n",
    "    for x in range(start_x,end_x, shelf_x):\n",
    "        isPaired = False\n",
    "        y = start_y\n",
    "        while(y < (end_y)):\n",
    "            cur_interval = shelf_y\n",
    "            if (isPaired):\n",
    "                cur_interval *= 2\n",
    "                isPaired = False\n",
    "            else:\n",
    "                isPaired = True\n",
    "            #print(f\"cur_interval: {cur_interval}\")\n",
    "            \n",
    "            y += cur_interval\n",
    "            #print(f\"y: {y}\")\n",
    "            shelf_details.append({\n",
    "                \"dir\":direction,\n",
    "                \"loc\":(x,y),\n",
    "                \"s_l\":shelf_x,\n",
    "                \"s_w\":shelf_y\n",
    "            })\n",
    "        \n",
    "    return shelf_details"
   ]
  },
  {
   "cell_type": "code",
   "execution_count": 5,
   "id": "f97d4038",
   "metadata": {},
   "outputs": [],
   "source": [
    "def print_warehouse_layout(s_l, s_w, a_l, a_w, shelf_details):\n",
    "    range_y = range(0 - s_l, math.ceil(a_w + s_l + (a_l / 8)), math.ceil((a_w) / 5))\n",
    "    range_x = range(0 - s_l, math.ceil(a_l + s_l+ (a_l / 8)), math.ceil((a_l) / 5))\n",
    "    print(range_x)\n",
    "    print(range_y)\n",
    "    fig, ax = plt.subplots(figsize=(12,6))\n",
    "    \n",
    "    plt.yticks(range_y)\n",
    "    plt.xticks(range_x)\n",
    "\n",
    "    for shelf in shelf_details:\n",
    "        b_l = (0,0)\n",
    "        cur_x = shelf[\"s_l\"]\n",
    "        cur_y = shelf[\"s_w\"]\n",
    "\n",
    "        if shelf[\"dir\"] == \"h\":\n",
    "            cur_loc = shelf[\"loc\"]\n",
    "            b_l = (cur_loc[0] - s_l/2, cur_loc[1] - s_w/2)\n",
    "        else:\n",
    "            cur_loc = shelf[\"loc\"]\n",
    "            b_l = (cur_loc[0] - s_w/2, cur_loc[1] - s_l/2)\n",
    "\n",
    "        #print(b_l)\n",
    "        rect = patches.Rectangle(b_l, cur_x, cur_y, linewidth=1, edgecolor=random_hex_color(), facecolor='none')\n",
    "        ax.add_patch(rect)\n",
    "\n",
    "\n",
    "    # Add the patch to the Axes\n",
    "    ax.add_patch(rect)\n",
    "    plt.text(200, 380, \"MIAO\", fontsize=12, rotation='vertical')\n",
    "    plt.show()"
   ]
  },
  {
   "cell_type": "code",
   "execution_count": null,
   "id": "aaa80fe4",
   "metadata": {},
   "outputs": [],
   "source": []
  },
  {
   "cell_type": "code",
   "execution_count": 6,
   "id": "d4fdb1df",
   "metadata": {},
   "outputs": [
    {
     "name": "stdout",
     "output_type": "stream",
     "text": [
      "shelf_x, shelf_y 75,50\n"
     ]
    }
   ],
   "source": [
    "shelf_length = 75\n",
    "shelf_width = 50\n",
    "area_x_len = 560\n",
    "area_x_width = 400\n",
    "area_b_l = (480,540)\n",
    "a_1 = generate_rectangle_layout(shelf_length, shelf_width, area_x_len, area_x_width,area_b_l,\"h\")"
   ]
  },
  {
   "cell_type": "code",
   "execution_count": 7,
   "id": "7421d43f",
   "metadata": {},
   "outputs": [
    {
     "name": "stdout",
     "output_type": "stream",
     "text": [
      "shelf_x, shelf_y 20,100\n"
     ]
    }
   ],
   "source": [
    "shelf_length = 100\n",
    "shelf_width = 20\n",
    "area_x_len = 560\n",
    "area_x_width = 400\n",
    "area_b_l = (0,0)\n",
    "a_2 = generate_rectangle_layout(shelf_length, shelf_width, area_x_len, area_x_width,area_b_l,\"v\")"
   ]
  },
  {
   "cell_type": "code",
   "execution_count": 8,
   "id": "48925284",
   "metadata": {},
   "outputs": [],
   "source": [
    "warehouse_len = 1200\n",
    "warehouse_width = 1200"
   ]
  },
  {
   "cell_type": "code",
   "execution_count": 9,
   "id": "247f0662",
   "metadata": {},
   "outputs": [],
   "source": [
    "a_all = a_1 + a_2"
   ]
  },
  {
   "cell_type": "code",
   "execution_count": 10,
   "id": "17a406ba",
   "metadata": {},
   "outputs": [
    {
     "name": "stdout",
     "output_type": "stream",
     "text": [
      "42\n",
      "78\n",
      "120\n"
     ]
    }
   ],
   "source": [
    "print(len(a_1))\n",
    "print(len(a_2))\n",
    "print(len(a_all))"
   ]
  },
  {
   "cell_type": "code",
   "execution_count": 11,
   "id": "6926f52a",
   "metadata": {
    "scrolled": true
   },
   "outputs": [
    {
     "name": "stdout",
     "output_type": "stream",
     "text": [
      "range(-100, 1450, 240)\n",
      "range(-100, 1450, 240)\n"
     ]
    },
    {
     "data": {
      "image/png": "[encoded data removed]",
      "text/plain": [
       "<Figure size 864x432 with 1 Axes>"
      ]
     },
     "metadata": {
      "needs_background": "light"
     },
     "output_type": "display_data"
    }
   ],
   "source": [
    "print_warehouse_layout(shelf_length, shelf_width, warehouse_len, warehouse_width, a_all)"
   ]
  },
  {
   "cell_type": "code",
   "execution_count": 12,
   "id": "a6181c56",
   "metadata": {},
   "outputs": [],
   "source": [
    "def gen_occupancy_grid(layout,w_x, w_y):\n",
    "    o_g = np.zeros((w_x, w_y))\n",
    "    for item in layout:\n",
    "        b_l = (0,0)\n",
    "        size_x = item[\"s_l\"]\n",
    "        size_y = item[\"s_w\"]\n",
    "        if item[\"dir\"] == \"h\":\n",
    "            cur_loc = item[\"loc\"]\n",
    "            b_l = (cur_loc[0] - size_x/2, cur_loc[1] - size_y/2)\n",
    "        else:\n",
    "            cur_loc = item[\"loc\"]\n",
    "            b_l = (cur_loc[0] - size_y/2, cur_loc[1] - size_x/2)\n",
    "        \n",
    "        \n",
    "        for x in range(math.floor(b_l[0]), math.ceil(size_x + b_l[0])):\n",
    "            for y in range(math.floor(b_l[1]), math.ceil(size_y + b_l[1])):\n",
    "                o_g[y][x] = 1\n",
    "    return o_g"
   ]
  },
  {
   "cell_type": "code",
   "execution_count": 13,
   "id": "58a010cb",
   "metadata": {},
   "outputs": [],
   "source": [
    "o_g = gen_occupancy_grid(a_all,warehouse_len, warehouse_width)"
   ]
  },
  {
   "cell_type": "code",
   "execution_count": 14,
   "id": "e928189a",
   "metadata": {},
   "outputs": [],
   "source": [
    "EMPTY_CELL = 0\n",
    "OBSTACLE_CELL = 1\n",
    "START_CELL = 2\n",
    "GOAL_CELL = 3\n",
    "MOVE_CELL = 4\n",
    "def plot_grid(data, saveImageName):\n",
    "    # create discrete colormap\n",
    "    cmap = colors.ListedColormap(['white', 'black', 'green', 'red', 'blue'])\n",
    "    bounds = [EMPTY_CELL, OBSTACLE_CELL, START_CELL, GOAL_CELL, MOVE_CELL ,MOVE_CELL + 1]\n",
    "    norm = colors.BoundaryNorm(bounds, cmap.N)\n",
    "    fig, ax = plt.subplots()\n",
    "    ax.imshow(data, cmap=cmap, norm=norm)\n",
    "    # draw gridlines\n",
    "    ax.grid(which='major', axis='both', linestyle='-', color='k', linewidth=1)\n",
    "\n",
    "    ax.set_xticks(np.arange(0.5, rows, 1));\n",
    "    ax.set_yticks(np.arange(0.5, cols, 1));\n",
    "    plt.tick_params(axis='both', which='both', bottom=False,   \n",
    "                    left=False, labelbottom=False, labelleft=False) \n",
    "    fig.set_size_inches((8.5, 11), forward=False)\n",
    "    plt.savefig(saveImageName + \".png\", dpi=500)"
   ]
  },
  {
   "cell_type": "code",
   "execution_count": 15,
   "id": "1957cd22",
   "metadata": {},
   "outputs": [
    {
     "data": {
      "text/plain": [
       "<matplotlib.image.AxesImage at 0x7efd84e36190>"
      ]
     },
     "execution_count": 15,
     "metadata": {},
     "output_type": "execute_result"
    },
    {
     "data": {
      "image/png": "[encoded data removed]",
      "text/plain": [
       "<Figure size 432x288 with 1 Axes>"
      ]
     },
     "metadata": {
      "needs_background": "light"
     },
     "output_type": "display_data"
    }
   ],
   "source": [
    "plt.imshow(o_g, origin='lower')"
   ]
  },
  {
   "cell_type": "code",
   "execution_count": null,
   "id": "97d7eb1e",
   "metadata": {},
   "outputs": [],
   "source": []
  }
 ],
 "metadata": {
  "kernelspec": {
   "display_name": "Python 3.8.10 ('test1')",
   "language": "python",
   "name": "python3"
  },
  "language_info": {
   "codemirror_mode": {
    "name": "ipython",
    "version": 3
   },
   "file_extension": ".py",
   "mimetype": "text/x-python",
   "name": "python",
   "nbconvert_exporter": "python",
   "pygments_lexer": "ipython3",
   "version": "3.8.10"
  },
  "vscode": {
   "interpreter": {
    "hash": "b4fdef7f24d4c68fc0905e69f1687ced7ba7e05a15849714b796838cddcd2c49"
   }
  }
 },
 "nbformat": 4,
 "nbformat_minor": 5
}
